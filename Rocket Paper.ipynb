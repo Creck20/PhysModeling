{
 "cells": [
  {
   "cell_type": "markdown",
   "id": "09db87d9-5699-4bd6-aff0-69722f6caffe",
   "metadata": {},
   "source": [
    "# Introduction: "
   ]
  },
  {
   "cell_type": "code",
   "execution_count": 26,
   "id": "b142ec9b-7529-4a47-8baa-3423b682bc6a",
   "metadata": {},
   "outputs": [],
   "source": [
    "import numpy as np\n",
    "import mpmath as math"
   ]
  },
  {
   "cell_type": "markdown",
   "id": "e19e539b-c332-4188-82bd-e919e1a5e41e",
   "metadata": {},
   "source": [
    "Lab By Caeson Reckling and Calvin Hewett: "
   ]
  },
  {
   "cell_type": "markdown",
   "id": "320e5f41-6591-4cd3-a758-3b443ea1d149",
   "metadata": {},
   "source": [
    "In our lab, we built a computer model to predict data for a rocket launch. We launched three rockets and took measurements corresponding to our predicitons. We then compared our predictions with the results and analyzed the effectiveness of our computer models. It should be noted that our launch occurred on a very windy day. We launched three rockets powered by A8-3. The fourth B6-4 engine went into the sun and didn't come back."
   ]
  },
  {
   "cell_type": "markdown",
   "id": "5515338e-5231-4ae3-8ba3-07e7f29a11c4",
   "metadata": {},
   "source": [
    "# Predictions:"
   ]
  },
  {
   "cell_type": "markdown",
   "id": "3e951f66-f3d0-4f9e-b771-406cbdb07eec",
   "metadata": {},
   "source": [
    "## Max Height: "
   ]
  },
  {
   "cell_type": "markdown",
   "id": "464c2481-50ba-47ed-8fcf-00fd1e831084",
   "metadata": {},
   "source": [
    "To predict the max height, we used  Eulers method of numerical analysis. In time intervals of 0.1 seconds, we updated the values of time, position in x, position in y, and  acceleration in x and y. We incorporated a Boolean logic representation of the thrust profile of an a8-3 rocket. We also incorporated the drag force into our acceleration.\n",
    "\n",
    "Projected value of Max Height: Approximately 85 meters"
   ]
  },
  {
   "cell_type": "markdown",
   "id": "df6dba00-9663-4b5c-8f9e-72865665785f",
   "metadata": {},
   "source": [
    "## Time To Max Height: "
   ]
  },
  {
   "cell_type": "markdown",
   "id": "b2bf4e6d-809c-4b30-a8d9-a60b772f8bed",
   "metadata": {},
   "source": [
    "To find the time to max heigth, we used the same code and had it display the time value. By graphing Height Versus Time, we were able to find approximations for the time at different points. \n",
    "\n",
    "The estimate for time to max height is: Approximately 4.2 seconds. "
   ]
  },
  {
   "cell_type": "markdown",
   "id": "eda39660-4e53-41b2-b64e-ff32b976aa57",
   "metadata": {},
   "source": [
    "## Time to Landing: "
   ]
  },
  {
   "cell_type": "markdown",
   "id": "09794b9e-2fc7-41cc-bf9c-c0ab9dc76d22",
   "metadata": {},
   "source": [
    "To find the time to landing, we incorporated into our function a boolean logic parachute deployment system. The a8-3 deploys it's parachute 3.8 seconds after launch. This is manifest in the drastic change in curvature of the height versus time graph. \n",
    "\n",
    "The estimate for time to landing is: Approximaltely 13 seconds. "
   ]
  },
  {
   "cell_type": "markdown",
   "id": "d8cd366d-dcdc-497a-9d93-f58d4fe9e32b",
   "metadata": {},
   "source": [
    "## Side Bar:"
   ]
  },
  {
   "cell_type": "markdown",
   "id": "0a22fa17-a231-45fb-9b99-c957566e16c0",
   "metadata": {},
   "source": [
    "It should be noted that a similar prediction was made for our b6-4 rocket (including a thurst profile adaptaion and a parachute deployment system). Unfortunately, that one decided to become Icharus. It never returned from a close encounter witht the sun. \n",
    "\n",
    "No predictions were made for displacement in x. "
   ]
  },
  {
   "cell_type": "markdown",
   "id": "4bf3b48c-cd55-4878-b4bb-6b51617eded2",
   "metadata": {},
   "source": [
    "# Measurements: "
   ]
  },
  {
   "cell_type": "markdown",
   "id": "65598f23-6d84-498a-928a-5e1c41dc31d0",
   "metadata": {},
   "source": [
    "It should be noted that the measurements were taken on a very windy day. We also had the second of our surving a8 rockets lose its stablizing fins shortly after launch. This resulted in a skewed flying pattern and stunted launch height. "
   ]
  },
  {
   "cell_type": "markdown",
   "id": "1d75a57f-e219-4e79-84a2-2b028dc229ff",
   "metadata": {},
   "source": [
    "The following is a table of our measurements:"
   ]
  },
  {
   "cell_type": "markdown",
   "id": "8851da52-8211-41ba-b16d-5c666cae483a",
   "metadata": {},
   "source": [
    "Measurements: Multiple Values indicate multiple measurements. \n",
    "\n",
    "Launch|Max Height (m)|Time to Max Height (s)|Max Displacement Distance in X (m)|Time to Land (s)|\n",
    "|:-:|:-:|:-:|:-:|:-:|\n",
    "|1 (A8)|58.86,39.81,75.7|2.06,3.31,2.71,3.53,3.3|62|5,3.7,15.64,15.4|\n",
    "|2 (A8)|22.26,95.26,12.12|11.55,2.23,1.57,1.85|24|14.9,13.7,11.8|\n",
    "|3 (A8)|56.95,42.84|3.31,3.1,2.24|53|25.6,22.1|\n"
   ]
  },
  {
   "cell_type": "markdown",
   "id": "6626fdcd-86c3-4272-9d60-dea68e4cf876",
   "metadata": {},
   "source": [
    "## Max Height:"
   ]
  },
  {
   "cell_type": "markdown",
   "id": "21815908-cc09-4f4a-8407-0383020406b0",
   "metadata": {},
   "source": [
    "It should be noted that the measurements where taken collaboratively from three different locations relative to the same launch. To calulate maximum height, three teams at perpendicular angles to the launch measured a distance from ground zero, then used a protractor to measure the angle to maximum height. These values where then used to calculate the height reached. "
   ]
  },
  {
   "cell_type": "markdown",
   "id": "b69b36e5-f028-4c5f-b91d-b363bd391918",
   "metadata": {},
   "source": [
    "The uncertainty of the protractor was taken at $\\pm0.1$ degrees or $\\pm\\pi/1800$ radians The uncertainty of the spin wheel thingy (I don't know what you call that) used to measure distance from ground zero is $\\pm0.1$ meters. "
   ]
  },
  {
   "cell_type": "markdown",
   "id": "13291970-bef4-4365-a067-5a6bf8ebbe17",
   "metadata": {},
   "source": [
    "$H = L \\times tan(\\theta)$\n",
    "\n",
    "$\\sqrt{(Lsec^2(\\theta)\\sigma_\\theta)^2+(tan(\\theta)\\sigma_L)^2}$\n",
    "\n",
    "The above equation was used to calculate the uncertainty in the calculation in max height. "
   ]
  },
  {
   "cell_type": "markdown",
   "id": "084f3812-39d4-4118-85ce-54d095c6fe97",
   "metadata": {},
   "source": [
    "Launch 1\n",
    "\n",
    "|Team|Angle (radians)|Length from Base (m)|Max Height and Uncertainty (m)|\n",
    "|:-:|:-:|:-:|:-:|\n",
    "|1|0.97389372|40|58.85821263$\\pm0.26548093$|\n",
    "|2|0.9250245|30|39.81134465$\\pm0.19624073$|\n",
    "|3|0.9424778|55|75.70100563$\\pm0.31006798$|"
   ]
  },
  {
   "cell_type": "code",
   "execution_count": 41,
   "id": "b68d3273-8db3-4b82-b5a1-fdb29b581f9b",
   "metadata": {},
   "outputs": [
    {
     "name": "stdout",
     "output_type": "stream",
     "text": [
      "[58.85821263 39.81134465 75.70100563]\n",
      "[0.26548093 0.19624073 0.31006798]\n",
      "[0.97389372 0.9250245  0.9424778 ]\n"
     ]
    }
   ],
   "source": [
    "a1=np.radians(np.array([55.8,53,54])) #angle\n",
    "l1=np.array([40,30,55])   #length\n",
    "h1=l1*np.tan(a1) #height\n",
    "sigma1=np.sqrt((l1*(1/np.cos(a1))**2*(np.pi/1800))**2+(np.tan((a1))*0.1)**2) #uncertainty\n",
    "print(h1)\n",
    "print(sigma1)\n",
    "print(a1)"
   ]
  },
  {
   "cell_type": "markdown",
   "id": "4d79578d-450b-4257-8835-458c3ce728c1",
   "metadata": {},
   "source": [
    "Launch 2\n",
    "\n",
    "|Team|Angle (radians)|Length from Base (m)|Max Height and Uncertainty (m)|\n",
    "|:-:|:-:|:-:|:-:|\n",
    "|1|0.50789081|40|22.26371439$\\pm0.10704863$|\n",
    "|2|1.0471975|55|95.26279442$\\pm0.42123014$|\n",
    "|3|0.38397244|30|12.12078678$\\pm0.07308919$|"
   ]
  },
  {
   "cell_type": "code",
   "execution_count": 43,
   "id": "a56afcb7-a007-443c-bc25-26f3d7e8dbf4",
   "metadata": {},
   "outputs": [
    {
     "name": "stdout",
     "output_type": "stream",
     "text": [
      "[22.26371439 95.26279442 12.12078678]\n",
      "[0.10704863 0.42123014 0.07308919]\n",
      "[0.50789081 1.04719755 0.38397244]\n"
     ]
    }
   ],
   "source": [
    "a1=np.radians(np.array([29.1,60,22])) #angle\n",
    "l1=np.array([40,55,30])   #length\n",
    "h1=l1*np.tan(a1) #height\n",
    "sigma1=np.sqrt((l1*(1/np.cos(a1))**2*(np.pi/1800))**2+(np.tan((a1))*0.1)**2) #uncertainty\n",
    "print(h1)\n",
    "print(sigma1)\n",
    "print(a1)"
   ]
  },
  {
   "cell_type": "markdown",
   "id": "8d4fa53c-26fa-41eb-860c-c773d0679870",
   "metadata": {},
   "source": [
    "Launch 3\n",
    "\n",
    "|Team|Angle (radians)|Length from Base (m)|Max Height and Uncertainty (m)|\n",
    "|:-:|:-:|:-:|:-:|\n",
    "|1|0.75398224|40|37.56250023$\\pm0.16148785$|\n",
    "|2|0.80285146|55|56.95416726$\\pm0.22426741$|\n",
    "|3|0.95993109|30|42.8444402$\\pm0.21383611$|"
   ]
  },
  {
   "cell_type": "code",
   "execution_count": 44,
   "id": "628206b4-67df-49a1-87ae-63050309a730",
   "metadata": {},
   "outputs": [
    {
     "name": "stdout",
     "output_type": "stream",
     "text": [
      "[37.56250023 56.95416726 42.8444402 ]\n",
      "[0.16148785 0.22426741 0.21383611]\n",
      "[0.75398224 0.80285146 0.95993109]\n"
     ]
    }
   ],
   "source": [
    "a1=np.radians(np.array([43.2,46,55])) #angle\n",
    "l1=np.array([40,55,30])   #length\n",
    "h1=l1*np.tan(a1) #height\n",
    "sigma1=np.sqrt((l1*(1/np.cos(a1))**2*(np.pi/1800))**2+(np.tan((a1))*0.1)**2) #uncertainty\n",
    "print(h1)\n",
    "print(sigma1)\n",
    "print(a1)"
   ]
  },
  {
   "cell_type": "markdown",
   "id": "d937f0ca-60df-4283-b4ba-aa992ab42767",
   "metadata": {},
   "source": [
    "## Time to Max Height:"
   ]
  },
  {
   "cell_type": "markdown",
   "id": "3e4b3494-69cc-4231-80e2-da7c3b737b60",
   "metadata": {},
   "source": [
    "The time to max height was recorded by using the stopwatch feature on a smart phone. A lap was made at the point in which the rocket was percieved to start dipping. The uncertainty of a smart phone is $\\pm0.001$ seconds. There was probably a greater uncertainty associated with the low recording skill of our class. "
   ]
  },
  {
   "cell_type": "markdown",
   "id": "c83b8414-eae5-4a0a-aded-56ef81cd66aa",
   "metadata": {},
   "source": [
    "## Time to land:"
   ]
  },
  {
   "cell_type": "markdown",
   "id": "e1f5d326-7a74-4815-a3a8-719c472e869a",
   "metadata": {},
   "source": [
    "The time to land was taken by recording the total time the rocket was in the air. The time was recorded using the same smart phones. The error associated was still $\\pm0.001$ seconds. In both this and the time to max height, there seems to be a very high disparity amongst the measured values. We attribute this to the sample size and the skill of the recorders. "
   ]
  },
  {
   "cell_type": "markdown",
   "id": "47175c5e-57a1-4910-8df4-66979b24c5fe",
   "metadata": {},
   "source": [
    "## Max Displacement in X:"
   ]
  },
  {
   "cell_type": "markdown",
   "id": "97ea8db2-70d1-4757-908f-5ec48b4977ff",
   "metadata": {},
   "source": [
    "The measurements of max displacement were taken by sending the same rolling measure thingy in a straight line from the launch pad to the place the rocket landed. I attribute the uncertainty of $\\pm0.1$ meters to the skill of the recorders, and the fact that only one of three teams recorded this data. "
   ]
  },
  {
   "cell_type": "markdown",
   "id": "97ec4932-5069-436b-a5ec-9da7fa4c51ed",
   "metadata": {},
   "source": [
    "# Comparison:"
   ]
  },
  {
   "cell_type": "markdown",
   "id": "27def4de-04d5-4ed2-b7bb-334d2f73c271",
   "metadata": {},
   "source": [
    "## Max Height: "
   ]
  },
  {
   "cell_type": "markdown",
   "id": "4913e201-695c-4e1b-ad65-0f314a86a33d",
   "metadata": {},
   "source": [
    "Of the nine measurements taken on max heigth only two of them were within ten meters of the projected 85. Several factors may have influenced this. First: We are definitely not a professional group of scientists, and our measurement skills are sub par. Second: Factors such as wind, fluid dynamics, air temperature, air pressure fluctations, etc were not modeled by our predictions. The predictions treat the rocket as a cylinder with defined cross sectional area. A much more advanced set of physical parameters would be needed to fully model the rocket trajectory. "
   ]
  },
  {
   "cell_type": "markdown",
   "id": "bc8d2a06-c4fc-4255-a04f-6b6ba3eb43c5",
   "metadata": {},
   "source": [
    "## Time to max height and Time to Land: "
   ]
  },
  {
   "cell_type": "markdown",
   "id": "9f11622b-28d5-438a-9374-97da9f7839d2",
   "metadata": {},
   "source": [
    "The measurements of time appear to be much more consitent. The measurements of the individual launches fall within a range of about $\\pm1$ seconds (with the exception of a consistent outlyer that can be attributed to poor recording). The increased precision of smart phones as recording equiptment is most likely the reason for this increased precision in measurement. \n",
    "\n",
    "|Launch|Max Height Average|Land Average|Max Height Projected|Land Projected|\n",
    "|:-:|:-:|:-:|:-:|:-:|\n",
    "|1|3.0|9.4|4.2|13|\n",
    "|2|4.3|13.46|4.2|13|\n",
    "|3|2.88|25.4|4.2|13|\n",
    "\n",
    "As can be observed from this table, the second launch had the closest times to the projection. This seems counterintuitive as this was the launch that lost it's stabalizing fins at lift off. "
   ]
  },
  {
   "cell_type": "markdown",
   "id": "435327ac-29f2-43c2-95cb-fd7c6fd9cd13",
   "metadata": {},
   "source": [
    "# Conclusion:"
   ]
  },
  {
   "cell_type": "markdown",
   "id": "03b74715-bf3e-404a-8d8b-c646d3cffa4c",
   "metadata": {},
   "source": [
    "If we were to perform this lab again, greater care would need to be taken in measurements. Some more physical parameters would need to be programmed into our projections. It would be beneficial to increase the sample size of our measurements by increasing the number of rockets launched. It would also be beneficial to do this on a day when high winds are not blowing our rockets into powerlines. "
   ]
  },
  {
   "cell_type": "markdown",
   "id": "7d5ba2dc-29a3-46b7-9d7e-a2bc114805ec",
   "metadata": {},
   "source": [
    "# Appendix:"
   ]
  },
  {
   "cell_type": "markdown",
   "id": "d0c86cb0-c11b-4a9b-b770-3fe0c34b0650",
   "metadata": {},
   "source": [
    "## Caeson's Code:"
   ]
  },
  {
   "cell_type": "code",
   "execution_count": 47,
   "id": "7d168431-dce7-4046-b39e-07e4b5019400",
   "metadata": {},
   "outputs": [],
   "source": [
    "def a8(t): #A8 THRUST PROFILE FUNCTION\n",
    "    m1=(10)/(0.22)\n",
    "    m2=(10-3)/(0.22-0.3)\n",
    "    m3=-0.2\n",
    "    m4=(2-0)/(0.66-0.72)\n",
    "    if(t<0.22):\n",
    "        thrust=m1*t\n",
    "    elif(t<0.3):\n",
    "        thrust=m2*t+29.5\n",
    "    elif(t<0.66):\n",
    "        thrust=m3*t+3.31\n",
    "    elif(t<0.755):\n",
    "        thrust=m4*t+25.178\n",
    "    else:\n",
    "        thrust=0\n",
    "    return thrust"
   ]
  },
  {
   "cell_type": "code",
   "execution_count": 48,
   "id": "a482ee9b-4c8b-4fdf-a842-94c2840b33ec",
   "metadata": {},
   "outputs": [
    {
     "data": {
      "text/plain": [
       "Text(0, 0.5, 'Thrust (N)')"
      ]
     },
     "execution_count": 48,
     "metadata": {},
     "output_type": "execute_result"
    },
    {
     "data": {
      "image/png": "[encoded data removed]",
      "text/plain": [
       "<Figure size 640x480 with 1 Axes>"
      ]
     },
     "metadata": {},
     "output_type": "display_data"
    }
   ],
   "source": [
    "t=[0.001] #A8 THRUST PROFILE GRAPH\n",
    "pa8=[a8(0.001)]\n",
    "dt=0.001\n",
    "while (t[-1]<5):\n",
    "    t=t+[t[-1]+dt]\n",
    "    pa8=pa8+[a8(t[-1])]\n",
    "        \n",
    "    \n",
    "plt.plot(t,pa8)\n",
    "plt.title('A8-3 Thrust Profile')\n",
    "plt.xlabel('Time (s)')\n",
    "plt.ylabel('Thrust (N)')"
   ]
  },
  {
   "cell_type": "code",
   "execution_count": 50,
   "id": "174235e6-b89a-4907-94fb-eff13d8601f6",
   "metadata": {},
   "outputs": [
    {
     "data": {
      "text/plain": [
       "0.016"
      ]
     },
     "execution_count": 50,
     "metadata": {},
     "output_type": "execute_result"
    }
   ],
   "source": [
    "def parachutea(t): #PARACHUTE DEPLOYMENT FUNCTION\n",
    "    if(t<3.8):\n",
    "        area=4.75e-6 \n",
    "    else:\n",
    "        area=0.016\n",
    "    return area\n",
    "        \n",
    "parachutea(8)"
   ]
  },
  {
   "cell_type": "code",
   "execution_count": 54,
   "id": "5227ef6c-fedd-4c72-9a66-a66165425429",
   "metadata": {},
   "outputs": [
    {
     "data": {
      "text/plain": [
       "Text(0, 0.5, 'Area (m^2)')"
      ]
     },
     "execution_count": 54,
     "metadata": {},
     "output_type": "execute_result"
    },
    {
     "data": {
      "image/png": "[encoded data removed]",
      "text/plain": [
       "<Figure size 640x480 with 1 Axes>"
      ]
     },
     "metadata": {},
     "output_type": "display_data"
    }
   ],
   "source": [
    "t=[0] #GRAPH PARACHUTE FUNCTON\n",
    "pparachute=[parachutea(0)]\n",
    "dt=0.001\n",
    "while (t[-1]<10):\n",
    "    t=t+[t[-1]+dt]\n",
    "    pparachute=pparachute+[parachutea(t[-1])]\n",
    "        \n",
    "    \n",
    "plt.plot(t,pparachute)\n",
    "plt.title('Deploy Parachute')\n",
    "plt.xlabel('Time (s)')\n",
    "plt.ylabel('Area (m^2)')"
   ]
  },
  {
   "cell_type": "code",
   "execution_count": 52,
   "id": "427b8158-446b-4cb1-bb4d-ec52bcb64054",
   "metadata": {},
   "outputs": [],
   "source": [
    "def a8l(y0,v0,theta,C,rho,m): #Putting in the function parameters will define these variables.\n",
    "    #Variables past the indent are defined for this function only. \n",
    "    thr=theta*np.pi/180       #convert theta from degrees to radians\n",
    "    t=[0.01]\n",
    "    dc=0.5*parachutea(t[-1])*C*rho/m                # the drag constants to make the code cleaner\n",
    "    g=-9.8                          # the gravitational acceleration constant in m/s2\n",
    "    dt=0.01 # the time step, must be small to give good results...Euyler\n",
    "    \n",
    "    # initialize my lists/arrays to use in the while loop\n",
    "    x=[0]                           #initialize position in x direction--0 because it is. \n",
    "    y=[y0] #nitialize position in y direction using inital y position/launch height\n",
    "    vx=[v0*np.cos(thr)]       #initialize velocity in x direction using inital velocity and trig\n",
    "    vy=[v0*np.sin(thr)]       #initialize velocity in x direction using inital velocity and tri \n",
    "        \n",
    "    magv=(vx[-1]**2+vy[-1]**2)**0.5 # the magnitude of v, again to keep the next line cleaner\n",
    "    ax=[ -dc*magv*vx[-1] ]          #initialize acceleration in x direction ax=Fx/m\n",
    "    ay=[ -dc*magv*vy[-1] + g + a8(t[-1])/m]\n",
    "    \n",
    "    #The while loop to update and add a new value in list/array\n",
    "    while (y[-1]>0): #Set for when the rocket is higher than the ground.\n",
    "        dc=0.5*parachutea(t[-1])*C*rho/m    \n",
    "        x.append( x[-1]+vx[-1]*dt )             #update position in x direction \n",
    "        y.append( y[-1]+vy[-1]*dt )             #update position in y direction using inital y position\n",
    "        vx.append( vx[-1]+ax[-1]*dt )           #update velocity in x direction using inital velocity and trig\n",
    "        vy.append( vy[-1]+ay[-1]*dt )  #update velocity in x direction using inital velocity and trig\n",
    "        t.append(t[-1]+dt)             #Updates time value used in while loop\n",
    "        \n",
    "        magv=(  vx[-1]**2 + vy[-1]**2  )**0.5   #I didn't have this in my last code. Tis smart. \n",
    "        ax.append( -dc*magv*vx[-1] )            #recalculate acceleration in x direction ax=Fx/m using new values for velocity\n",
    "        ay.append( -dc*magv*vy[-1] + g + a8(t[-1])/m) \n",
    "    \n",
    "    plt.plot(x,y)\n",
    "    plt.xlabel('X Meters')\n",
    "    plt.ylabel('Y Meters')\n",
    "    plt.title('Trajectory')\n",
    "    \n",
    "    plt.show()\n",
    "    plt.plot(t,y)\n",
    "    plt.xlabel('Time')\n",
    "    plt.ylabel('Height')\n",
    "    plt.title('Height Versus Time')\n",
    "    print('X Final, Vx Final, Vy Final, Total Velocity Final')\n",
    "    return x[-1], vx[-1], vy[-1], magv #Return the values x, vx, vy, and magv \n",
    "    "
   ]
  },
  {
   "cell_type": "code",
   "execution_count": 53,
   "id": "10fe05c1-ba96-4763-99b4-a11becdb1867",
   "metadata": {},
   "outputs": [
    {
     "data": {
      "image/png": "[encoded data removed]",
      "text/plain": [
       "<Figure size 640x480 with 1 Axes>"
      ]
     },
     "metadata": {},
     "output_type": "display_data"
    },
    {
     "name": "stdout",
     "output_type": "stream",
     "text": [
      "X Final, Vx Final, Vy Final, Total Velocity Final\n",
      "(0.0, 0.0, -11.574709934456333, 11.574709934456333)\n"
     ]
    },
    {
     "data": {
      "image/png": "[encoded data removed]",
      "text/plain": [
       "<Figure size 640x480 with 1 Axes>"
      ]
     },
     "metadata": {},
     "output_type": "display_data"
    }
   ],
   "source": [
    "print(a8l(1,0,90,0.5,1.2,0.06562))"
   ]
  },
  {
   "cell_type": "markdown",
   "id": "96b6d7a4-f452-457f-ad04-2169d500b423",
   "metadata": {},
   "source": [
    "## Calvin's Code: "
   ]
  },
  {
   "cell_type": "code",
   "execution_count": 58,
   "id": "d062ed2a-d7dd-4b9f-a88f-365a060feb18",
   "metadata": {},
   "outputs": [
    {
     "ename": "SyntaxError",
     "evalue": "invalid syntax. Perhaps you forgot a comma? (3420095758.py, line 56)",
     "output_type": "error",
     "traceback": [
      "\u001b[1;36m  Cell \u001b[1;32mIn[58], line 56\u001b[1;36m\u001b[0m\n\u001b[1;33m    vmag.append((vx[-1]2 + vy[-1]2)*0.5)\u001b[0m\n\u001b[1;37m                 ^\u001b[0m\n\u001b[1;31mSyntaxError\u001b[0m\u001b[1;31m:\u001b[0m invalid syntax. Perhaps you forgot a comma?\n"
     ]
    }
   ],
   "source": [
    "def A8_3_thrust(t):\n",
    "    if (t[-1]<.2):\n",
    "        af=13\n",
    "    elif(t[-1]>.3):\n",
    "        af=3\n",
    "    else:\n",
    "        af=0\n",
    "    return af\n",
    "\n",
    "\n",
    "def b6_4_thrust(t):\n",
    "    if (t<.3):\n",
    "        bf=30\n",
    "    elif(t >.4):\n",
    "        bf=4\n",
    "    else:\n",
    "        bf=0\n",
    "    return bf\n",
    "\n",
    "def cross_section(t):\n",
    "    if t < 6:\n",
    "        A= 4.710**(-6) #rocket\n",
    "    else:\n",
    "        A=.016 #rocket after shoot is poped\n",
    "    return A\n",
    "\n",
    "import math\n",
    "import numpy as np\n",
    "import numpy as np\n",
    "import matplotlib.pyplot as plt\n",
    "\n",
    "def Projectile(y0, v0, tht, A, C, rop):\n",
    "    m = 65.62 / 1000  # mass in grams is being converted to kilograms\n",
    "    g = -9.8\n",
    "\n",
    "    t = [0]\n",
    "    dt = 0.1\n",
    "    drg = 0.5 * A * C * rop / m\n",
    "\n",
    "    y = [y0]\n",
    "    x = [0]\n",
    "\n",
    "    ang = tht * np.pi / 180\n",
    "    vy = [v0 * np.sin(ang)]\n",
    "    vx = [v0 * np.cos(ang)]\n",
    "    vmag = [v0]\n",
    "\n",
    "    ax = [-drg * vmag[-1] * vx[-1]]\n",
    "    ay = [-drg * vmag[-1] * vy[-1] + g]\n",
    "    A = cross_section(t[-1])\n",
    "    acc_b = b6_4_thrust(t[-1]) / m\n",
    "    acc_a = b6_4_thrust(t[-1]) / m\n",
    "    v_wind = 0\n",
    "\n",
    "    while vy[-1] > 0 or y[-1] > 0:\n",
    "        vmag.append((vx[-1]2 + vy[-1]2)*0.5)\n",
    "        t.append(t[-1] + dt)\n",
    "\n",
    "        ax.append(-drg vmag[0] * vx[-1])\n",
    "        ay.append((-drg * vmag[0] * vy[-1]) + g+acc_b)\n",
    "\n",
    "        vy.append(vy[-1] + ay[-1] * dt)\n",
    "        vx.append(vx[-1] + ax[-1] * dt)\n",
    "\n",
    "        y.append(y[-1] + vy[-1] * dt)\n",
    "        x.append(x[-1] + vx[-1] * dt)\n",
    "\n",
    "    plt.plot(x, y)\n",
    "    plt.xlabel('Horizontal Distance (m)')\n",
    "    plt.ylabel('Vertical Distance (m)')\n",
    "    plt.title('Projectile Motion')\n",
    "    plt.grid(True)\n",
    "    plt.show()\n",
    "\n",
    "    return x[-1]\n",
    "\n",
    "\n",
    "print(Projectile(0, 30, 30, 0.02, 0.5, 1.2))"
   ]
  },
  {
   "cell_type": "code",
   "execution_count": null,
   "id": "d492c648-0354-42e8-9e9f-11f942024c0c",
   "metadata": {},
   "outputs": [],
   "source": []
  }
 ],
 "metadata": {
  "kernelspec": {
   "display_name": "Python 3 (ipykernel)",
   "language": "python",
   "name": "python3"
  },
  "language_info": {
   "codemirror_mode": {
    "name": "ipython",
    "version": 3
   },
   "file_extension": ".py",
   "mimetype": "text/x-python",
   "name": "python",
   "nbconvert_exporter": "python",
   "pygments_lexer": "ipython3",
   "version": "3.10.9"
  }
 },
 "nbformat": 4,
 "nbformat_minor": 5
}
